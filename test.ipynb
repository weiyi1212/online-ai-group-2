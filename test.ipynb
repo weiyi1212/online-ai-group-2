{
 "cells": [
  {
   "cell_type": "code",
   "execution_count": null,
   "metadata": {},
   "outputs": [],
   "source": [
    "import pandas as pd\n",
    "import sklearn \n",
    "import seaborn as sns \n",
    "import numpy as np\n",
    "import random\n",
    "pd.set_option('display.max_columns', 500)\n",
    "# random.seed(5483)"
   ]
  },
  {
   "cell_type": "code",
   "execution_count": 2,
   "metadata": {},
   "outputs": [],
   "source": [
    "def glimpse(df, maxvals=10, maxlen=110):\n",
    "    print('Shape: ', df.shape)\n",
    "    \n",
    "    def pad(y):\n",
    "        max_len = max([len(x) for x in y])\n",
    "        return [x.ljust(max_len) for x in y]\n",
    "    \n",
    "    # Column Name\n",
    "    toprnt = pad(df.columns.tolist())\n",
    "    \n",
    "    # Column Type\n",
    "    toprnt = pad([toprnt[i] + ' ' + str(df.iloc[:,i].dtype) for i in range(df.shape[1])])\n",
    "    \n",
    "    # Num NAs\n",
    "    num_nas = [df.iloc[:,i].isnull().sum() for i in range(df.shape[1])]\n",
    "    num_nas_ratio = [int(round(x*100/df.shape[0])) for x in num_nas]\n",
    "    num_nas_str = [str(x) + ' (' + str(y) + '%)' for x,y in zip(num_nas, num_nas_ratio)]\n",
    "    max_len = max([len(x) for x in num_nas_str])\n",
    "    num_nas_str = [x.rjust(max_len) for x in num_nas_str]\n",
    "    toprnt = [x + ' ' + y + ' NAs' for x,y in zip(toprnt, num_nas_str)]\n",
    "    \n",
    "    # Separator\n",
    "    toprnt = [x + ' : ' for x in toprnt]\n",
    "    \n",
    "    # Values\n",
    "    toprnt = [toprnt[i] + ', '.join([str(y) for y in df.iloc[:min([maxvals,df.shape[0]]), i]]) for i in range(df.shape[1])]\n",
    "    \n",
    "    # Trim to maxlen\n",
    "    toprnt = [x[:min(maxlen, len(x))] for x in toprnt]\n",
    "    \n",
    "    for x in toprnt:\n",
    "        print(x)"
   ]
  },
  {
   "cell_type": "code",
   "execution_count": 3,
   "metadata": {},
   "outputs": [
    {
     "ename": "FileNotFoundError",
     "evalue": "[Errno 2] No such file or directory: 'training_set/log_mini.csv'",
     "traceback": [
      "\u001b[0;31m---------------------------------------------------------------------------\u001b[0m",
      "\u001b[0;31mFileNotFoundError\u001b[0m                         Traceback (most recent call last)",
      "\u001b[1;32m/Volumes/WD_4T/Assignments/xy/xy/test.ipynb Cell 3'\u001b[0m in \u001b[0;36m<module>\u001b[0;34m\u001b[0m\n\u001b[0;32m----> <a href='vscode-notebook-cell:/Volumes/WD_4T/Assignments/xy/xy/test.ipynb#ch0000002?line=0'>1</a>\u001b[0m training_set \u001b[39m=\u001b[39m pd\u001b[39m.\u001b[39;49mread_csv(\u001b[39m\"\u001b[39;49m\u001b[39mtraining_set/log_mini.csv\u001b[39;49m\u001b[39m\"\u001b[39;49m)\n\u001b[1;32m      <a href='vscode-notebook-cell:/Volumes/WD_4T/Assignments/xy/xy/test.ipynb#ch0000002?line=1'>2</a>\u001b[0m track_features \u001b[39m=\u001b[39m pd\u001b[39m.\u001b[39mread_csv(\u001b[39m\"\u001b[39m\u001b[39mtrack_features/tf_mini.csv\u001b[39m\u001b[39m\"\u001b[39m)\n",
      "File \u001b[0;32m~/opt/anaconda3/envs/py38/lib/python3.8/site-packages/pandas/util/_decorators.py:311\u001b[0m, in \u001b[0;36mdeprecate_nonkeyword_arguments.<locals>.decorate.<locals>.wrapper\u001b[0;34m(*args, **kwargs)\u001b[0m\n\u001b[1;32m    <a href='file:///Users/hupengfei/opt/anaconda3/envs/py38/lib/python3.8/site-packages/pandas/util/_decorators.py?line=304'>305</a>\u001b[0m \u001b[39mif\u001b[39;00m \u001b[39mlen\u001b[39m(args) \u001b[39m>\u001b[39m num_allow_args:\n\u001b[1;32m    <a href='file:///Users/hupengfei/opt/anaconda3/envs/py38/lib/python3.8/site-packages/pandas/util/_decorators.py?line=305'>306</a>\u001b[0m     warnings\u001b[39m.\u001b[39mwarn(\n\u001b[1;32m    <a href='file:///Users/hupengfei/opt/anaconda3/envs/py38/lib/python3.8/site-packages/pandas/util/_decorators.py?line=306'>307</a>\u001b[0m         msg\u001b[39m.\u001b[39mformat(arguments\u001b[39m=\u001b[39marguments),\n\u001b[1;32m    <a href='file:///Users/hupengfei/opt/anaconda3/envs/py38/lib/python3.8/site-packages/pandas/util/_decorators.py?line=307'>308</a>\u001b[0m         \u001b[39mFutureWarning\u001b[39;00m,\n\u001b[1;32m    <a href='file:///Users/hupengfei/opt/anaconda3/envs/py38/lib/python3.8/site-packages/pandas/util/_decorators.py?line=308'>309</a>\u001b[0m         stacklevel\u001b[39m=\u001b[39mstacklevel,\n\u001b[1;32m    <a href='file:///Users/hupengfei/opt/anaconda3/envs/py38/lib/python3.8/site-packages/pandas/util/_decorators.py?line=309'>310</a>\u001b[0m     )\n\u001b[0;32m--> <a href='file:///Users/hupengfei/opt/anaconda3/envs/py38/lib/python3.8/site-packages/pandas/util/_decorators.py?line=310'>311</a>\u001b[0m \u001b[39mreturn\u001b[39;00m func(\u001b[39m*\u001b[39;49margs, \u001b[39m*\u001b[39;49m\u001b[39m*\u001b[39;49mkwargs)\n",
      "File \u001b[0;32m~/opt/anaconda3/envs/py38/lib/python3.8/site-packages/pandas/io/parsers/readers.py:680\u001b[0m, in \u001b[0;36mread_csv\u001b[0;34m(filepath_or_buffer, sep, delimiter, header, names, index_col, usecols, squeeze, prefix, mangle_dupe_cols, dtype, engine, converters, true_values, false_values, skipinitialspace, skiprows, skipfooter, nrows, na_values, keep_default_na, na_filter, verbose, skip_blank_lines, parse_dates, infer_datetime_format, keep_date_col, date_parser, dayfirst, cache_dates, iterator, chunksize, compression, thousands, decimal, lineterminator, quotechar, quoting, doublequote, escapechar, comment, encoding, encoding_errors, dialect, error_bad_lines, warn_bad_lines, on_bad_lines, delim_whitespace, low_memory, memory_map, float_precision, storage_options)\u001b[0m\n\u001b[1;32m    <a href='file:///Users/hupengfei/opt/anaconda3/envs/py38/lib/python3.8/site-packages/pandas/io/parsers/readers.py?line=664'>665</a>\u001b[0m kwds_defaults \u001b[39m=\u001b[39m _refine_defaults_read(\n\u001b[1;32m    <a href='file:///Users/hupengfei/opt/anaconda3/envs/py38/lib/python3.8/site-packages/pandas/io/parsers/readers.py?line=665'>666</a>\u001b[0m     dialect,\n\u001b[1;32m    <a href='file:///Users/hupengfei/opt/anaconda3/envs/py38/lib/python3.8/site-packages/pandas/io/parsers/readers.py?line=666'>667</a>\u001b[0m     delimiter,\n\u001b[0;32m   (...)\u001b[0m\n\u001b[1;32m    <a href='file:///Users/hupengfei/opt/anaconda3/envs/py38/lib/python3.8/site-packages/pandas/io/parsers/readers.py?line=675'>676</a>\u001b[0m     defaults\u001b[39m=\u001b[39m{\u001b[39m\"\u001b[39m\u001b[39mdelimiter\u001b[39m\u001b[39m\"\u001b[39m: \u001b[39m\"\u001b[39m\u001b[39m,\u001b[39m\u001b[39m\"\u001b[39m},\n\u001b[1;32m    <a href='file:///Users/hupengfei/opt/anaconda3/envs/py38/lib/python3.8/site-packages/pandas/io/parsers/readers.py?line=676'>677</a>\u001b[0m )\n\u001b[1;32m    <a href='file:///Users/hupengfei/opt/anaconda3/envs/py38/lib/python3.8/site-packages/pandas/io/parsers/readers.py?line=677'>678</a>\u001b[0m kwds\u001b[39m.\u001b[39mupdate(kwds_defaults)\n\u001b[0;32m--> <a href='file:///Users/hupengfei/opt/anaconda3/envs/py38/lib/python3.8/site-packages/pandas/io/parsers/readers.py?line=679'>680</a>\u001b[0m \u001b[39mreturn\u001b[39;00m _read(filepath_or_buffer, kwds)\n",
      "File \u001b[0;32m~/opt/anaconda3/envs/py38/lib/python3.8/site-packages/pandas/io/parsers/readers.py:575\u001b[0m, in \u001b[0;36m_read\u001b[0;34m(filepath_or_buffer, kwds)\u001b[0m\n\u001b[1;32m    <a href='file:///Users/hupengfei/opt/anaconda3/envs/py38/lib/python3.8/site-packages/pandas/io/parsers/readers.py?line=571'>572</a>\u001b[0m _validate_names(kwds\u001b[39m.\u001b[39mget(\u001b[39m\"\u001b[39m\u001b[39mnames\u001b[39m\u001b[39m\"\u001b[39m, \u001b[39mNone\u001b[39;00m))\n\u001b[1;32m    <a href='file:///Users/hupengfei/opt/anaconda3/envs/py38/lib/python3.8/site-packages/pandas/io/parsers/readers.py?line=573'>574</a>\u001b[0m \u001b[39m# Create the parser.\u001b[39;00m\n\u001b[0;32m--> <a href='file:///Users/hupengfei/opt/anaconda3/envs/py38/lib/python3.8/site-packages/pandas/io/parsers/readers.py?line=574'>575</a>\u001b[0m parser \u001b[39m=\u001b[39m TextFileReader(filepath_or_buffer, \u001b[39m*\u001b[39;49m\u001b[39m*\u001b[39;49mkwds)\n\u001b[1;32m    <a href='file:///Users/hupengfei/opt/anaconda3/envs/py38/lib/python3.8/site-packages/pandas/io/parsers/readers.py?line=576'>577</a>\u001b[0m \u001b[39mif\u001b[39;00m chunksize \u001b[39mor\u001b[39;00m iterator:\n\u001b[1;32m    <a href='file:///Users/hupengfei/opt/anaconda3/envs/py38/lib/python3.8/site-packages/pandas/io/parsers/readers.py?line=577'>578</a>\u001b[0m     \u001b[39mreturn\u001b[39;00m parser\n",
      "File \u001b[0;32m~/opt/anaconda3/envs/py38/lib/python3.8/site-packages/pandas/io/parsers/readers.py:933\u001b[0m, in \u001b[0;36mTextFileReader.__init__\u001b[0;34m(self, f, engine, **kwds)\u001b[0m\n\u001b[1;32m    <a href='file:///Users/hupengfei/opt/anaconda3/envs/py38/lib/python3.8/site-packages/pandas/io/parsers/readers.py?line=929'>930</a>\u001b[0m     \u001b[39mself\u001b[39m\u001b[39m.\u001b[39moptions[\u001b[39m\"\u001b[39m\u001b[39mhas_index_names\u001b[39m\u001b[39m\"\u001b[39m] \u001b[39m=\u001b[39m kwds[\u001b[39m\"\u001b[39m\u001b[39mhas_index_names\u001b[39m\u001b[39m\"\u001b[39m]\n\u001b[1;32m    <a href='file:///Users/hupengfei/opt/anaconda3/envs/py38/lib/python3.8/site-packages/pandas/io/parsers/readers.py?line=931'>932</a>\u001b[0m \u001b[39mself\u001b[39m\u001b[39m.\u001b[39mhandles: IOHandles \u001b[39m|\u001b[39m \u001b[39mNone\u001b[39;00m \u001b[39m=\u001b[39m \u001b[39mNone\u001b[39;00m\n\u001b[0;32m--> <a href='file:///Users/hupengfei/opt/anaconda3/envs/py38/lib/python3.8/site-packages/pandas/io/parsers/readers.py?line=932'>933</a>\u001b[0m \u001b[39mself\u001b[39m\u001b[39m.\u001b[39m_engine \u001b[39m=\u001b[39m \u001b[39mself\u001b[39;49m\u001b[39m.\u001b[39;49m_make_engine(f, \u001b[39mself\u001b[39;49m\u001b[39m.\u001b[39;49mengine)\n",
      "File \u001b[0;32m~/opt/anaconda3/envs/py38/lib/python3.8/site-packages/pandas/io/parsers/readers.py:1217\u001b[0m, in \u001b[0;36mTextFileReader._make_engine\u001b[0;34m(self, f, engine)\u001b[0m\n\u001b[1;32m   <a href='file:///Users/hupengfei/opt/anaconda3/envs/py38/lib/python3.8/site-packages/pandas/io/parsers/readers.py?line=1212'>1213</a>\u001b[0m     mode \u001b[39m=\u001b[39m \u001b[39m\"\u001b[39m\u001b[39mrb\u001b[39m\u001b[39m\"\u001b[39m\n\u001b[1;32m   <a href='file:///Users/hupengfei/opt/anaconda3/envs/py38/lib/python3.8/site-packages/pandas/io/parsers/readers.py?line=1213'>1214</a>\u001b[0m \u001b[39m# error: No overload variant of \"get_handle\" matches argument types\u001b[39;00m\n\u001b[1;32m   <a href='file:///Users/hupengfei/opt/anaconda3/envs/py38/lib/python3.8/site-packages/pandas/io/parsers/readers.py?line=1214'>1215</a>\u001b[0m \u001b[39m# \"Union[str, PathLike[str], ReadCsvBuffer[bytes], ReadCsvBuffer[str]]\"\u001b[39;00m\n\u001b[1;32m   <a href='file:///Users/hupengfei/opt/anaconda3/envs/py38/lib/python3.8/site-packages/pandas/io/parsers/readers.py?line=1215'>1216</a>\u001b[0m \u001b[39m# , \"str\", \"bool\", \"Any\", \"Any\", \"Any\", \"Any\", \"Any\"\u001b[39;00m\n\u001b[0;32m-> <a href='file:///Users/hupengfei/opt/anaconda3/envs/py38/lib/python3.8/site-packages/pandas/io/parsers/readers.py?line=1216'>1217</a>\u001b[0m \u001b[39mself\u001b[39m\u001b[39m.\u001b[39mhandles \u001b[39m=\u001b[39m get_handle(  \u001b[39m# type: ignore[call-overload]\u001b[39;49;00m\n\u001b[1;32m   <a href='file:///Users/hupengfei/opt/anaconda3/envs/py38/lib/python3.8/site-packages/pandas/io/parsers/readers.py?line=1217'>1218</a>\u001b[0m     f,\n\u001b[1;32m   <a href='file:///Users/hupengfei/opt/anaconda3/envs/py38/lib/python3.8/site-packages/pandas/io/parsers/readers.py?line=1218'>1219</a>\u001b[0m     mode,\n\u001b[1;32m   <a href='file:///Users/hupengfei/opt/anaconda3/envs/py38/lib/python3.8/site-packages/pandas/io/parsers/readers.py?line=1219'>1220</a>\u001b[0m     encoding\u001b[39m=\u001b[39;49m\u001b[39mself\u001b[39;49m\u001b[39m.\u001b[39;49moptions\u001b[39m.\u001b[39;49mget(\u001b[39m\"\u001b[39;49m\u001b[39mencoding\u001b[39;49m\u001b[39m\"\u001b[39;49m, \u001b[39mNone\u001b[39;49;00m),\n\u001b[1;32m   <a href='file:///Users/hupengfei/opt/anaconda3/envs/py38/lib/python3.8/site-packages/pandas/io/parsers/readers.py?line=1220'>1221</a>\u001b[0m     compression\u001b[39m=\u001b[39;49m\u001b[39mself\u001b[39;49m\u001b[39m.\u001b[39;49moptions\u001b[39m.\u001b[39;49mget(\u001b[39m\"\u001b[39;49m\u001b[39mcompression\u001b[39;49m\u001b[39m\"\u001b[39;49m, \u001b[39mNone\u001b[39;49;00m),\n\u001b[1;32m   <a href='file:///Users/hupengfei/opt/anaconda3/envs/py38/lib/python3.8/site-packages/pandas/io/parsers/readers.py?line=1221'>1222</a>\u001b[0m     memory_map\u001b[39m=\u001b[39;49m\u001b[39mself\u001b[39;49m\u001b[39m.\u001b[39;49moptions\u001b[39m.\u001b[39;49mget(\u001b[39m\"\u001b[39;49m\u001b[39mmemory_map\u001b[39;49m\u001b[39m\"\u001b[39;49m, \u001b[39mFalse\u001b[39;49;00m),\n\u001b[1;32m   <a href='file:///Users/hupengfei/opt/anaconda3/envs/py38/lib/python3.8/site-packages/pandas/io/parsers/readers.py?line=1222'>1223</a>\u001b[0m     is_text\u001b[39m=\u001b[39;49mis_text,\n\u001b[1;32m   <a href='file:///Users/hupengfei/opt/anaconda3/envs/py38/lib/python3.8/site-packages/pandas/io/parsers/readers.py?line=1223'>1224</a>\u001b[0m     errors\u001b[39m=\u001b[39;49m\u001b[39mself\u001b[39;49m\u001b[39m.\u001b[39;49moptions\u001b[39m.\u001b[39;49mget(\u001b[39m\"\u001b[39;49m\u001b[39mencoding_errors\u001b[39;49m\u001b[39m\"\u001b[39;49m, \u001b[39m\"\u001b[39;49m\u001b[39mstrict\u001b[39;49m\u001b[39m\"\u001b[39;49m),\n\u001b[1;32m   <a href='file:///Users/hupengfei/opt/anaconda3/envs/py38/lib/python3.8/site-packages/pandas/io/parsers/readers.py?line=1224'>1225</a>\u001b[0m     storage_options\u001b[39m=\u001b[39;49m\u001b[39mself\u001b[39;49m\u001b[39m.\u001b[39;49moptions\u001b[39m.\u001b[39;49mget(\u001b[39m\"\u001b[39;49m\u001b[39mstorage_options\u001b[39;49m\u001b[39m\"\u001b[39;49m, \u001b[39mNone\u001b[39;49;00m),\n\u001b[1;32m   <a href='file:///Users/hupengfei/opt/anaconda3/envs/py38/lib/python3.8/site-packages/pandas/io/parsers/readers.py?line=1225'>1226</a>\u001b[0m )\n\u001b[1;32m   <a href='file:///Users/hupengfei/opt/anaconda3/envs/py38/lib/python3.8/site-packages/pandas/io/parsers/readers.py?line=1226'>1227</a>\u001b[0m \u001b[39massert\u001b[39;00m \u001b[39mself\u001b[39m\u001b[39m.\u001b[39mhandles \u001b[39mis\u001b[39;00m \u001b[39mnot\u001b[39;00m \u001b[39mNone\u001b[39;00m\n\u001b[1;32m   <a href='file:///Users/hupengfei/opt/anaconda3/envs/py38/lib/python3.8/site-packages/pandas/io/parsers/readers.py?line=1227'>1228</a>\u001b[0m f \u001b[39m=\u001b[39m \u001b[39mself\u001b[39m\u001b[39m.\u001b[39mhandles\u001b[39m.\u001b[39mhandle\n",
      "File \u001b[0;32m~/opt/anaconda3/envs/py38/lib/python3.8/site-packages/pandas/io/common.py:789\u001b[0m, in \u001b[0;36mget_handle\u001b[0;34m(path_or_buf, mode, encoding, compression, memory_map, is_text, errors, storage_options)\u001b[0m\n\u001b[1;32m    <a href='file:///Users/hupengfei/opt/anaconda3/envs/py38/lib/python3.8/site-packages/pandas/io/common.py?line=783'>784</a>\u001b[0m \u001b[39melif\u001b[39;00m \u001b[39misinstance\u001b[39m(handle, \u001b[39mstr\u001b[39m):\n\u001b[1;32m    <a href='file:///Users/hupengfei/opt/anaconda3/envs/py38/lib/python3.8/site-packages/pandas/io/common.py?line=784'>785</a>\u001b[0m     \u001b[39m# Check whether the filename is to be opened in binary mode.\u001b[39;00m\n\u001b[1;32m    <a href='file:///Users/hupengfei/opt/anaconda3/envs/py38/lib/python3.8/site-packages/pandas/io/common.py?line=785'>786</a>\u001b[0m     \u001b[39m# Binary mode does not support 'encoding' and 'newline'.\u001b[39;00m\n\u001b[1;32m    <a href='file:///Users/hupengfei/opt/anaconda3/envs/py38/lib/python3.8/site-packages/pandas/io/common.py?line=786'>787</a>\u001b[0m     \u001b[39mif\u001b[39;00m ioargs\u001b[39m.\u001b[39mencoding \u001b[39mand\u001b[39;00m \u001b[39m\"\u001b[39m\u001b[39mb\u001b[39m\u001b[39m\"\u001b[39m \u001b[39mnot\u001b[39;00m \u001b[39min\u001b[39;00m ioargs\u001b[39m.\u001b[39mmode:\n\u001b[1;32m    <a href='file:///Users/hupengfei/opt/anaconda3/envs/py38/lib/python3.8/site-packages/pandas/io/common.py?line=787'>788</a>\u001b[0m         \u001b[39m# Encoding\u001b[39;00m\n\u001b[0;32m--> <a href='file:///Users/hupengfei/opt/anaconda3/envs/py38/lib/python3.8/site-packages/pandas/io/common.py?line=788'>789</a>\u001b[0m         handle \u001b[39m=\u001b[39m \u001b[39mopen\u001b[39;49m(\n\u001b[1;32m    <a href='file:///Users/hupengfei/opt/anaconda3/envs/py38/lib/python3.8/site-packages/pandas/io/common.py?line=789'>790</a>\u001b[0m             handle,\n\u001b[1;32m    <a href='file:///Users/hupengfei/opt/anaconda3/envs/py38/lib/python3.8/site-packages/pandas/io/common.py?line=790'>791</a>\u001b[0m             ioargs\u001b[39m.\u001b[39;49mmode,\n\u001b[1;32m    <a href='file:///Users/hupengfei/opt/anaconda3/envs/py38/lib/python3.8/site-packages/pandas/io/common.py?line=791'>792</a>\u001b[0m             encoding\u001b[39m=\u001b[39;49mioargs\u001b[39m.\u001b[39;49mencoding,\n\u001b[1;32m    <a href='file:///Users/hupengfei/opt/anaconda3/envs/py38/lib/python3.8/site-packages/pandas/io/common.py?line=792'>793</a>\u001b[0m             errors\u001b[39m=\u001b[39;49merrors,\n\u001b[1;32m    <a href='file:///Users/hupengfei/opt/anaconda3/envs/py38/lib/python3.8/site-packages/pandas/io/common.py?line=793'>794</a>\u001b[0m             newline\u001b[39m=\u001b[39;49m\u001b[39m\"\u001b[39;49m\u001b[39m\"\u001b[39;49m,\n\u001b[1;32m    <a href='file:///Users/hupengfei/opt/anaconda3/envs/py38/lib/python3.8/site-packages/pandas/io/common.py?line=794'>795</a>\u001b[0m         )\n\u001b[1;32m    <a href='file:///Users/hupengfei/opt/anaconda3/envs/py38/lib/python3.8/site-packages/pandas/io/common.py?line=795'>796</a>\u001b[0m     \u001b[39melse\u001b[39;00m:\n\u001b[1;32m    <a href='file:///Users/hupengfei/opt/anaconda3/envs/py38/lib/python3.8/site-packages/pandas/io/common.py?line=796'>797</a>\u001b[0m         \u001b[39m# Binary mode\u001b[39;00m\n\u001b[1;32m    <a href='file:///Users/hupengfei/opt/anaconda3/envs/py38/lib/python3.8/site-packages/pandas/io/common.py?line=797'>798</a>\u001b[0m         handle \u001b[39m=\u001b[39m \u001b[39mopen\u001b[39m(handle, ioargs\u001b[39m.\u001b[39mmode)\n",
      "\u001b[0;31mFileNotFoundError\u001b[0m: [Errno 2] No such file or directory: 'training_set/log_mini.csv'"
     ],
     "output_type": "error"
    }
   ],
   "source": [
    "training_set = pd.read_csv(\"training_set/log_mini.csv\")\n",
    "track_features = pd.read_csv(\"track_features/tf_mini.csv\")"
   ]
  },
  {
   "cell_type": "code",
   "execution_count": null,
   "metadata": {},
   "outputs": [
    {
     "name": "stdout",
     "output_type": "stream",
     "text": [
      "Shape:  (167880, 21)\n",
      "session_id                      object 0 (0%) NAs : 0_00006f66-33e5-4de7-a324-2d18e439fc1e, 0_00006f66-33e5-4d\n",
      "session_position                int64  0 (0%) NAs : 1, 2, 3, 4, 5, 6, 7, 8, 9, 10\n",
      "session_length                  int64  0 (0%) NAs : 20, 20, 20, 20, 20, 20, 20, 20, 20, 20\n",
      "track_id_clean                  object 0 (0%) NAs : t_0479f24c-27d2-46d6-a00c-7ec928f2b539, t_9099cd7b-c238-47\n",
      "skip_1                          bool   0 (0%) NAs : False, False, False, False, False, False, True, True, Fals\n",
      "skip_2                          bool   0 (0%) NAs : False, False, False, False, False, False, True, True, True\n",
      "skip_3                          bool   0 (0%) NAs : False, False, False, False, False, True, True, True, True,\n",
      "not_skipped                     bool   0 (0%) NAs : True, True, True, True, True, False, False, False, False, \n",
      "context_switch                  int64  0 (0%) NAs : 0, 0, 0, 0, 0, 0, 0, 0, 0, 0\n",
      "no_pause_before_play            int64  0 (0%) NAs : 0, 1, 1, 1, 1, 1, 1, 1, 1, 1\n",
      "short_pause_before_play         int64  0 (0%) NAs : 0, 0, 0, 0, 0, 0, 0, 0, 0, 0\n",
      "long_pause_before_play          int64  0 (0%) NAs : 0, 0, 0, 0, 0, 0, 0, 0, 0, 0\n",
      "hist_user_behavior_n_seekfwd    int64  0 (0%) NAs : 0, 0, 0, 0, 0, 0, 0, 0, 0, 0\n",
      "hist_user_behavior_n_seekback   int64  0 (0%) NAs : 0, 0, 0, 0, 0, 0, 0, 0, 0, 0\n",
      "hist_user_behavior_is_shuffle   bool   0 (0%) NAs : True, True, True, True, True, True, True, True, True, True\n",
      "hour_of_day                     int64  0 (0%) NAs : 16, 16, 16, 16, 16, 16, 16, 16, 16, 16\n",
      "date                            object 0 (0%) NAs : 2018-07-15, 2018-07-15, 2018-07-15, 2018-07-15, 2018-07-15\n",
      "premium                         bool   0 (0%) NAs : True, True, True, True, True, True, True, True, True, True\n",
      "context_type                    object 0 (0%) NAs : editorial_playlist, editorial_playlist, editorial_playlist\n",
      "hist_user_behavior_reason_start object 0 (0%) NAs : trackdone, trackdone, trackdone, trackdone, trackdone, tra\n",
      "hist_user_behavior_reason_end   object 0 (0%) NAs : trackdone, trackdone, trackdone, trackdone, trackdone, fwd\n"
     ]
    }
   ],
   "source": [
    "glimpse(training_set)"
   ]
  },
  {
   "cell_type": "markdown",
   "metadata": {},
   "source": [
    "## Explore Track Features"
   ]
  },
  {
   "cell_type": "code",
   "execution_count": null,
   "metadata": {},
   "outputs": [
    {
     "name": "stdout",
     "output_type": "stream",
     "text": [
      "Shape:  (50704, 30)\n",
      "track_id               object  0 (0%) NAs : t_a540e552-16d4-42f8-a185-232bd650ea7d, t_67965da0-132b-4b1e-8a69-\n",
      "duration               float64 0 (0%) NAs : 109.70667266845705, 187.69332885742188, 160.83999633789062, 175.39\n",
      "release_year           int64   0 (0%) NAs : 1950, 1950, 1951, 1951, 1951, 1951, 1952, 1952, 1954, 1954\n",
      "us_popularity_estimate float64 0 (0%) NAs : 99.97541442005864, 99.96942966649577, 99.6025486718809, 99.6650178\n",
      "acousticness           float64 0 (0%) NAs : 0.458040177822113, 0.9162718057632446, 0.8128837943077087, 0.39685\n",
      "beat_strength          float64 0 (0%) NAs : 0.519496500492096, 0.4192226529121398, 0.4258897304534912, 0.40093\n",
      "bounciness             float64 0 (0%) NAs : 0.5049487352371215, 0.5455302000045776, 0.5082798600196838, 0.3599\n",
      "danceability           float64 0 (0%) NAs : 0.3997668921947479, 0.4912352859973907, 0.4916245937347412, 0.5522\n",
      "dyn_range_mean         float64 0 (0%) NAs : 7.511880397796632, 9.098376274108887, 8.368670463562012, 5.9673461\n",
      "energy                 float64 0 (0%) NAs : 0.8177086114883422, 0.1542582809925079, 0.3588130176067352, 0.5145\n",
      "flatness               float64 0 (0%) NAs : 0.903752863407135, 1.0379523038864136, 1.004267692565918, 0.975138\n",
      "instrumentalness       float64 0 (0%) NAs : 3.254326884416514e-06, 8.344854321440387e-12, 2.927475484248987e-1\n",
      "key                    int64   0 (0%) NAs : 0, 0, 0, 0, 0, 0, 0, 0, 0, 0\n",
      "liveness               float64 0 (0%) NAs : 0.1321242898702621, 0.1632813960313797, 0.0901147872209549, 0.3609\n",
      "loudness               float64 0 (0%) NAs : -11.23799991607666, -13.706000328063965, -10.522000312805176, -11.\n",
      "mechanism              float64 0 (0%) NAs : 0.3861003816127777, 0.125, 0.2006689012050628, 0.4271523058414459,\n",
      "mode                   object  0 (0%) NAs : major, major, minor, major, major, major, major, major, major, maj\n",
      "organism               float64 0 (0%) NAs : 0.5416057109832763, 0.8958736062049865, 0.8061359524726867, 0.4927\n",
      "speechiness            float64 0 (0%) NAs : 0.0799847990274429, 0.0838769003748893, 0.0387772098183631, 0.0383\n",
      "tempo                  float64 0 (0%) NAs : 166.28700256347656, 95.26100158691406, 105.18599700927734, 119.441\n",
      "time_signature         int64   0 (0%) NAs : 4, 3, 4, 4, 4, 4, 4, 4, 4, 4\n",
      "valence                float64 0 (0%) NAs : 0.935511827468872, 0.3596748113632202, 0.726768970489502, 0.859074\n",
      "acoustic_vector_0      float64 0 (0%) NAs : -0.0332838855683803, 0.1457028239965438, 0.0217196028679609, 0.039\n",
      "acoustic_vector_1      float64 0 (0%) NAs : -0.4118956625461578, -0.8503715991973877, -0.74363374710083, -0.26\n",
      "acoustic_vector_2      float64 0 (0%) NAs : -0.0285798609256744, 0.1238595023751258, 0.3332473933696746, -0.05\n",
      "acoustic_vector_3      float64 0 (0%) NAs : 0.3494375944137573, 0.7469040751457214, 0.5684465169906616, 0.1061\n",
      "acoustic_vector_4      float64 0 (0%) NAs : 0.8324670195579528, 0.3718033134937286, 0.4110943675041198, 0.6148\n",
      "acoustic_vector_5      float64 0 (0%) NAs : -0.213871419429779, -0.4205577373504638, -0.1877485662698745, -0.1\n",
      "acoustic_vector_6      float64 0 (0%) NAs : -0.2994638383388519, -0.2131204456090927, -0.387598693370819, -0.2\n",
      "acoustic_vector_7      float64 0 (0%) NAs : -0.6759073734283447, -0.525795042514801, -0.4334955513477325, -0.5\n"
     ]
    }
   ],
   "source": [
    "glimpse(track_features)"
   ]
  },
  {
   "cell_type": "code",
   "execution_count": null,
   "metadata": {},
   "outputs": [
    {
     "data": {
      "text/html": [
       "<div>\n",
       "<style scoped>\n",
       "    .dataframe tbody tr th:only-of-type {\n",
       "        vertical-align: middle;\n",
       "    }\n",
       "\n",
       "    .dataframe tbody tr th {\n",
       "        vertical-align: top;\n",
       "    }\n",
       "\n",
       "    .dataframe thead th {\n",
       "        text-align: right;\n",
       "    }\n",
       "</style>\n",
       "<table border=\"1\" class=\"dataframe\">\n",
       "  <thead>\n",
       "    <tr style=\"text-align: right;\">\n",
       "      <th></th>\n",
       "      <th>track_id</th>\n",
       "      <th>duration</th>\n",
       "      <th>release_year</th>\n",
       "      <th>us_popularity_estimate</th>\n",
       "      <th>acousticness</th>\n",
       "      <th>beat_strength</th>\n",
       "      <th>bounciness</th>\n",
       "      <th>danceability</th>\n",
       "      <th>dyn_range_mean</th>\n",
       "      <th>energy</th>\n",
       "      <th>flatness</th>\n",
       "      <th>instrumentalness</th>\n",
       "      <th>key</th>\n",
       "      <th>liveness</th>\n",
       "      <th>loudness</th>\n",
       "      <th>mechanism</th>\n",
       "      <th>mode</th>\n",
       "      <th>organism</th>\n",
       "      <th>speechiness</th>\n",
       "      <th>tempo</th>\n",
       "      <th>time_signature</th>\n",
       "      <th>valence</th>\n",
       "      <th>acoustic_vector_0</th>\n",
       "      <th>acoustic_vector_1</th>\n",
       "      <th>acoustic_vector_2</th>\n",
       "      <th>acoustic_vector_3</th>\n",
       "      <th>acoustic_vector_4</th>\n",
       "      <th>acoustic_vector_5</th>\n",
       "      <th>acoustic_vector_6</th>\n",
       "      <th>acoustic_vector_7</th>\n",
       "    </tr>\n",
       "  </thead>\n",
       "  <tbody>\n",
       "    <tr>\n",
       "      <th>24967</th>\n",
       "      <td>t_290b0251-3269-4f05-89e8-dc4c5aa5ebcf</td>\n",
       "      <td>244.909744</td>\n",
       "      <td>2017</td>\n",
       "      <td>99.990493</td>\n",
       "      <td>0.74080</td>\n",
       "      <td>0.416469</td>\n",
       "      <td>0.469964</td>\n",
       "      <td>0.486426</td>\n",
       "      <td>7.772687</td>\n",
       "      <td>0.418546</td>\n",
       "      <td>1.039709</td>\n",
       "      <td>6.591684e-05</td>\n",
       "      <td>5</td>\n",
       "      <td>0.096003</td>\n",
       "      <td>-6.415</td>\n",
       "      <td>0.184492</td>\n",
       "      <td>major</td>\n",
       "      <td>0.779050</td>\n",
       "      <td>0.056263</td>\n",
       "      <td>119.065002</td>\n",
       "      <td>3</td>\n",
       "      <td>0.226880</td>\n",
       "      <td>-0.479320</td>\n",
       "      <td>0.236505</td>\n",
       "      <td>0.341691</td>\n",
       "      <td>-0.046462</td>\n",
       "      <td>-0.328949</td>\n",
       "      <td>0.075185</td>\n",
       "      <td>-0.206610</td>\n",
       "      <td>-0.034250</td>\n",
       "    </tr>\n",
       "    <tr>\n",
       "      <th>47084</th>\n",
       "      <td>t_9a2ffd85-1130-43df-a8d7-ec71608ff70a</td>\n",
       "      <td>268.866669</td>\n",
       "      <td>1999</td>\n",
       "      <td>99.991619</td>\n",
       "      <td>0.08354</td>\n",
       "      <td>0.438231</td>\n",
       "      <td>0.597238</td>\n",
       "      <td>0.534025</td>\n",
       "      <td>10.001296</td>\n",
       "      <td>0.933491</td>\n",
       "      <td>0.920455</td>\n",
       "      <td>1.390910e-13</td>\n",
       "      <td>11</td>\n",
       "      <td>0.393935</td>\n",
       "      <td>-3.282</td>\n",
       "      <td>0.508578</td>\n",
       "      <td>major</td>\n",
       "      <td>0.352473</td>\n",
       "      <td>0.365991</td>\n",
       "      <td>202.057999</td>\n",
       "      <td>4</td>\n",
       "      <td>0.477595</td>\n",
       "      <td>-0.892794</td>\n",
       "      <td>0.294577</td>\n",
       "      <td>0.195306</td>\n",
       "      <td>0.153738</td>\n",
       "      <td>-0.293612</td>\n",
       "      <td>-0.050942</td>\n",
       "      <td>-0.523639</td>\n",
       "      <td>0.200027</td>\n",
       "    </tr>\n",
       "  </tbody>\n",
       "</table>\n",
       "</div>"
      ],
      "text/plain": [
       "                                     track_id    duration  release_year  \\\n",
       "24967  t_290b0251-3269-4f05-89e8-dc4c5aa5ebcf  244.909744          2017   \n",
       "47084  t_9a2ffd85-1130-43df-a8d7-ec71608ff70a  268.866669          1999   \n",
       "\n",
       "       us_popularity_estimate  acousticness  beat_strength  bounciness  \\\n",
       "24967               99.990493       0.74080       0.416469    0.469964   \n",
       "47084               99.991619       0.08354       0.438231    0.597238   \n",
       "\n",
       "       danceability  dyn_range_mean    energy  flatness  instrumentalness  \\\n",
       "24967      0.486426        7.772687  0.418546  1.039709      6.591684e-05   \n",
       "47084      0.534025       10.001296  0.933491  0.920455      1.390910e-13   \n",
       "\n",
       "       key  liveness  loudness  mechanism   mode  organism  speechiness  \\\n",
       "24967    5  0.096003    -6.415   0.184492  major  0.779050     0.056263   \n",
       "47084   11  0.393935    -3.282   0.508578  major  0.352473     0.365991   \n",
       "\n",
       "            tempo  time_signature   valence  acoustic_vector_0  \\\n",
       "24967  119.065002               3  0.226880          -0.479320   \n",
       "47084  202.057999               4  0.477595          -0.892794   \n",
       "\n",
       "       acoustic_vector_1  acoustic_vector_2  acoustic_vector_3  \\\n",
       "24967           0.236505           0.341691          -0.046462   \n",
       "47084           0.294577           0.195306           0.153738   \n",
       "\n",
       "       acoustic_vector_4  acoustic_vector_5  acoustic_vector_6  \\\n",
       "24967          -0.328949           0.075185          -0.206610   \n",
       "47084          -0.293612          -0.050942          -0.523639   \n",
       "\n",
       "       acoustic_vector_7  \n",
       "24967          -0.034250  \n",
       "47084           0.200027  "
      ]
     },
     "execution_count": 6,
     "metadata": {},
     "output_type": "execute_result"
    }
   ],
   "source": [
    "# training_set.info()\n",
    "track_features.sample(2)"
   ]
  },
  {
   "cell_type": "markdown",
   "metadata": {},
   "source": [
    "## Explore Training data"
   ]
  },
  {
   "cell_type": "code",
   "execution_count": null,
   "metadata": {},
   "outputs": [
    {
     "name": "stdout",
     "output_type": "stream",
     "text": [
      "(167880, 21)\n",
      "[60932]\n",
      "(167879, 21)\n"
     ]
    }
   ],
   "source": [
    "s1 = training_set.skip_1\n",
    "s2 = training_set.skip_2\n",
    "s3 = training_set.skip_3\n",
    "not_s = training_set.not_skipped\n",
    "\n",
    "print(training_set.shape)\n",
    "index_to_drop = []\n",
    "for i in range(len(s1)):\n",
    "    # print(s1[i])\n",
    "    if s1[i] == True and s2[i] == True and s3[i] == True and not_s[i] == False:\n",
    "        continue\n",
    "    if s1[i] == False and s2[i] == True and s3[i] == True and not_s[i] == False:\n",
    "        continue\n",
    "    if s1[i] == False and s2[i] == False and s3[i] == True and not_s[i] == False:\n",
    "        continue\n",
    "    if s1[i] == False and s2[i] == False and s3[i] == False and not_s[i] == False:\n",
    "        continue\n",
    "    if s1[i] == False and s2[i] == False and s3[i] == False and not_s[i] == True:\n",
    "        continue\n",
    "    \n",
    "    index_to_drop.append(i)\n",
    "    # print(training_set.loc[i, :])\n",
    "\n",
    "print(index_to_drop)\n",
    "training_set = training_set.drop(index_to_drop)\n",
    "print(training_set.shape)"
   ]
  },
  {
   "cell_type": "markdown",
   "metadata": {},
   "source": [
    "Prepreocess"
   ]
  },
  {
   "cell_type": "code",
   "execution_count": null,
   "metadata": {},
   "outputs": [
    {
     "name": "stdout",
     "output_type": "stream",
     "text": [
      "Shape:  (167879, 21)\n",
      "session_id                      object 0 (0%) NAs : 0_00006f66-33e5-4de7-a324-2d18e439fc1e, 0_00006f66-33e5-4d\n",
      "session_position                int64  0 (0%) NAs : 1, 2, 3, 4, 5, 6, 7, 8, 9, 10\n",
      "session_length                  int64  0 (0%) NAs : 20, 20, 20, 20, 20, 20, 20, 20, 20, 20\n",
      "track_id_clean                  object 0 (0%) NAs : t_0479f24c-27d2-46d6-a00c-7ec928f2b539, t_9099cd7b-c238-47\n",
      "skip_2                          bool   0 (0%) NAs : False, False, False, False, False, False, True, True, True\n",
      "context_switch                  int64  0 (0%) NAs : 0, 0, 0, 0, 0, 0, 0, 0, 0, 0\n",
      "no_pause_before_play            int64  0 (0%) NAs : 0, 1, 1, 1, 1, 1, 1, 1, 1, 1\n",
      "short_pause_before_play         int64  0 (0%) NAs : 0, 0, 0, 0, 0, 0, 0, 0, 0, 0\n",
      "long_pause_before_play          int64  0 (0%) NAs : 0, 0, 0, 0, 0, 0, 0, 0, 0, 0\n",
      "hist_user_behavior_n_seekfwd    int64  0 (0%) NAs : 0, 0, 0, 0, 0, 0, 0, 0, 0, 0\n",
      "hist_user_behavior_n_seekback   int64  0 (0%) NAs : 0, 0, 0, 0, 0, 0, 0, 0, 0, 0\n",
      "hist_user_behavior_is_shuffle   bool   0 (0%) NAs : True, True, True, True, True, True, True, True, True, True\n",
      "hour_of_day                     int64  0 (0%) NAs : 16, 16, 16, 16, 16, 16, 16, 16, 16, 16\n",
      "premium                         bool   0 (0%) NAs : True, True, True, True, True, True, True, True, True, True\n",
      "context_type                    object 0 (0%) NAs : editorial_playlist, editorial_playlist, editorial_playlist\n",
      "hist_user_behavior_reason_start object 0 (0%) NAs : trackdone, trackdone, trackdone, trackdone, trackdone, tra\n",
      "hist_user_behavior_reason_end   object 0 (0%) NAs : trackdone, trackdone, trackdone, trackdone, trackdone, fwd\n",
      "wkdy                            int64  0 (0%) NAs : 6, 6, 6, 6, 6, 6, 6, 6, 6, 6\n",
      "day                             int64  0 (0%) NAs : 15, 15, 15, 15, 15, 15, 15, 15, 15, 15\n",
      "month                           int64  0 (0%) NAs : 7, 7, 7, 7, 7, 7, 7, 7, 7, 7\n",
      "year                            int64  0 (0%) NAs : 2018, 2018, 2018, 2018, 2018, 2018, 2018, 2018, 2018, 2018\n"
     ]
    }
   ],
   "source": [
    "training_set.date = pd.to_datetime(training_set.date)\n",
    "training_set['wkdy'] = training_set.date.dt.dayofweek\n",
    "training_set['day'] = training_set.date.dt.day\n",
    "training_set['month'] = training_set.date.dt.month\n",
    "training_set['year'] = training_set.date.dt.year\n",
    "\n",
    "training_set.drop(columns=['skip_1', 'skip_3', 'not_skipped', 'date'], inplace = True)\n",
    "glimpse(training_set)"
   ]
  },
  {
   "cell_type": "code",
   "execution_count": null,
   "metadata": {},
   "outputs": [
    {
     "name": "stdout",
     "output_type": "stream",
     "text": [
      "premium\n",
      "skip_2\n",
      "hist_user_behavior_is_shuffle\n",
      "Shape:  (167879, 21)\n",
      "session_id                      object 0 (0%) NAs : 0_00006f66-33e5-4de7-a324-2d18e439fc1e, 0_00006f66-33e5-4d\n",
      "session_position                int64  0 (0%) NAs : 1, 2, 3, 4, 5, 6, 7, 8, 9, 10\n",
      "session_length                  int64  0 (0%) NAs : 20, 20, 20, 20, 20, 20, 20, 20, 20, 20\n",
      "track_id_clean                  object 0 (0%) NAs : t_0479f24c-27d2-46d6-a00c-7ec928f2b539, t_9099cd7b-c238-47\n",
      "skip_2                          int64  0 (0%) NAs : 0, 0, 0, 0, 0, 0, 1, 1, 1, 1\n",
      "context_switch                  int64  0 (0%) NAs : 0, 0, 0, 0, 0, 0, 0, 0, 0, 0\n",
      "no_pause_before_play            int64  0 (0%) NAs : 0, 1, 1, 1, 1, 1, 1, 1, 1, 1\n",
      "short_pause_before_play         int64  0 (0%) NAs : 0, 0, 0, 0, 0, 0, 0, 0, 0, 0\n",
      "long_pause_before_play          int64  0 (0%) NAs : 0, 0, 0, 0, 0, 0, 0, 0, 0, 0\n",
      "hist_user_behavior_n_seekfwd    int64  0 (0%) NAs : 0, 0, 0, 0, 0, 0, 0, 0, 0, 0\n",
      "hist_user_behavior_n_seekback   int64  0 (0%) NAs : 0, 0, 0, 0, 0, 0, 0, 0, 0, 0\n",
      "hist_user_behavior_is_shuffle   int64  0 (0%) NAs : 1, 1, 1, 1, 1, 1, 1, 1, 1, 1\n",
      "hour_of_day                     int64  0 (0%) NAs : 16, 16, 16, 16, 16, 16, 16, 16, 16, 16\n",
      "premium                         int64  0 (0%) NAs : 1, 1, 1, 1, 1, 1, 1, 1, 1, 1\n",
      "context_type                    object 0 (0%) NAs : editorial_playlist, editorial_playlist, editorial_playlist\n",
      "hist_user_behavior_reason_start object 0 (0%) NAs : trackdone, trackdone, trackdone, trackdone, trackdone, tra\n",
      "hist_user_behavior_reason_end   object 0 (0%) NAs : trackdone, trackdone, trackdone, trackdone, trackdone, fwd\n",
      "wkdy                            int64  0 (0%) NAs : 6, 6, 6, 6, 6, 6, 6, 6, 6, 6\n",
      "day                             int64  0 (0%) NAs : 15, 15, 15, 15, 15, 15, 15, 15, 15, 15\n",
      "month                           int64  0 (0%) NAs : 7, 7, 7, 7, 7, 7, 7, 7, 7, 7\n",
      "year                            int64  0 (0%) NAs : 2018, 2018, 2018, 2018, 2018, 2018, 2018, 2018, 2018, 2018\n"
     ]
    }
   ],
   "source": [
    "column_to_conv = ['premium', 'skip_2', 'hist_user_behavior_is_shuffle']\n",
    "for i in range(len(column_to_conv)):\n",
    "    print(column_to_conv[i])\n",
    "    training_set[column_to_conv[i]] = training_set[column_to_conv[i]].astype('int64')\n",
    "glimpse(training_set)\n",
    "# print(type(training_set.date[0].day))"
   ]
  },
  {
   "cell_type": "code",
   "execution_count": null,
   "metadata": {},
   "outputs": [
    {
     "name": "stdout",
     "output_type": "stream",
     "text": [
      "['editorial_playlist' 'user_collection' 'radio' 'personalized_playlist'\n",
      " 'catalog' 'charts']\n",
      "['trackdone' 'fwdbtn' 'backbtn' 'clickrow' 'appload' 'playbtn' 'remote'\n",
      " 'trackerror' 'endplay']\n",
      "['trackdone' 'fwdbtn' 'backbtn' 'endplay' 'logout' 'remote' 'clickrow']\n",
      "Shape:  (167879, 21)\n",
      "session_id                      object 0 (0%) NAs : 0_00006f66-33e5-4de7-a324-2d18e439fc1e, 0_00006f66-33e5-4d\n",
      "session_position                int64  0 (0%) NAs : 1, 2, 3, 4, 5, 6, 7, 8, 9, 10\n",
      "session_length                  int64  0 (0%) NAs : 20, 20, 20, 20, 20, 20, 20, 20, 20, 20\n",
      "track_id_clean                  object 0 (0%) NAs : t_0479f24c-27d2-46d6-a00c-7ec928f2b539, t_9099cd7b-c238-47\n",
      "skip_2                          int64  0 (0%) NAs : 0, 0, 0, 0, 0, 0, 1, 1, 1, 1\n",
      "context_switch                  int64  0 (0%) NAs : 0, 0, 0, 0, 0, 0, 0, 0, 0, 0\n",
      "no_pause_before_play            int64  0 (0%) NAs : 0, 1, 1, 1, 1, 1, 1, 1, 1, 1\n",
      "short_pause_before_play         int64  0 (0%) NAs : 0, 0, 0, 0, 0, 0, 0, 0, 0, 0\n",
      "long_pause_before_play          int64  0 (0%) NAs : 0, 0, 0, 0, 0, 0, 0, 0, 0, 0\n",
      "hist_user_behavior_n_seekfwd    int64  0 (0%) NAs : 0, 0, 0, 0, 0, 0, 0, 0, 0, 0\n",
      "hist_user_behavior_n_seekback   int64  0 (0%) NAs : 0, 0, 0, 0, 0, 0, 0, 0, 0, 0\n",
      "hist_user_behavior_is_shuffle   int64  0 (0%) NAs : 1, 1, 1, 1, 1, 1, 1, 1, 1, 1\n",
      "hour_of_day                     int64  0 (0%) NAs : 16, 16, 16, 16, 16, 16, 16, 16, 16, 16\n",
      "premium                         int64  0 (0%) NAs : 1, 1, 1, 1, 1, 1, 1, 1, 1, 1\n",
      "context_type                    int64  0 (0%) NAs : 0, 0, 0, 0, 0, 0, 0, 0, 0, 0\n",
      "hist_user_behavior_reason_start int64  0 (0%) NAs : 0, 0, 0, 0, 0, 0, 1, 1, 1, 1\n",
      "hist_user_behavior_reason_end   int64  0 (0%) NAs : 0, 0, 0, 0, 0, 1, 1, 1, 1, 1\n",
      "wkdy                            int64  0 (0%) NAs : 6, 6, 6, 6, 6, 6, 6, 6, 6, 6\n",
      "day                             int64  0 (0%) NAs : 15, 15, 15, 15, 15, 15, 15, 15, 15, 15\n",
      "month                           int64  0 (0%) NAs : 7, 7, 7, 7, 7, 7, 7, 7, 7, 7\n",
      "year                            int64  0 (0%) NAs : 2018, 2018, 2018, 2018, 2018, 2018, 2018, 2018, 2018, 2018\n"
     ]
    }
   ],
   "source": [
    "# training_set['mode'] = training_set['mode'].replace({\n",
    "#     'major': 0,\n",
    "#     'minor': 1,\n",
    "# })\n",
    "context_type_dict = {}\n",
    "context_type_list = training_set.context_type.unique()\n",
    "print(context_type_list)\n",
    "for i in range(len(context_type_list)):\n",
    "    context_type_dict[context_type_list[i]] = i\n",
    "\n",
    "training_set['context_type'] = training_set['context_type'].replace(context_type_dict)\n",
    "\n",
    "hist_user_behavior_reason_start_dict = {}\n",
    "hist_user_behavior_reason_start_list = training_set.hist_user_behavior_reason_start.unique()\n",
    "print(hist_user_behavior_reason_start_list)\n",
    "for i in range(len(hist_user_behavior_reason_start_list)):\n",
    "    hist_user_behavior_reason_start_dict[hist_user_behavior_reason_start_list[i]] = i\n",
    "\n",
    "training_set['hist_user_behavior_reason_start'] = training_set['hist_user_behavior_reason_start'].replace(hist_user_behavior_reason_start_dict)\n",
    "\n",
    "\n",
    "hist_user_behavior_reason_end_dict = {}\n",
    "hist_user_behavior_reason_end_list = training_set.hist_user_behavior_reason_end.unique()\n",
    "print(hist_user_behavior_reason_end_list)\n",
    "for i in range(len(hist_user_behavior_reason_end_list)):\n",
    "    hist_user_behavior_reason_end_dict[hist_user_behavior_reason_end_list[i]] = i\n",
    "\n",
    "training_set['hist_user_behavior_reason_end'] = training_set['hist_user_behavior_reason_end'].replace(hist_user_behavior_reason_end_dict)\n",
    "\n",
    "# session_id_dict = {}\n",
    "# session_id_list = training_set.session_id.unique()\n",
    "# print(session_id_list)\n",
    "# for i in range(len(session_id_list)):\n",
    "#     session_id_dict[session_id_list[i]] = i\n",
    "\n",
    "# training_set['session_id'] = training_set['session_id'].replace(session_id_dict)\n",
    "\n",
    "\n",
    "glimpse(training_set)\n"
   ]
  },
  {
   "cell_type": "markdown",
   "metadata": {},
   "source": [
    "# TODO: JOIN TRACK FEATURE"
   ]
  },
  {
   "cell_type": "code",
   "execution_count": null,
   "metadata": {},
   "outputs": [],
   "source": [
    "## Implement different methods: logistic regression, decision tree"
   ]
  },
  {
   "cell_type": "code",
   "execution_count": null,
   "metadata": {},
   "outputs": [
    {
     "name": "stdout",
     "output_type": "stream",
     "text": [
      "Train score:0.967\n",
      "Test score:0.841\n"
     ]
    }
   ],
   "source": [
    "from sklearn.model_selection import train_test_split\n",
    "from sklearn.tree import DecisionTreeClassifier\n",
    "from sklearn.tree import export_graphviz\n",
    "import pydot\n",
    "\n",
    "cls_to_drop = ['session_id', 'skip_2', 'track_id_clean']\n",
    "# cls_to_drop = ['skip_2', 'track_id_clean', 'session_length']\n",
    "X_train, X_test, y_train, y_test = train_test_split(training_set.drop(columns = cls_to_drop, inplace = False), training_set['skip_2'], train_size = 0.8, shuffle = True)\n",
    "# print(len(X_train), len(X_test))\n",
    "\n",
    "tree = DecisionTreeClassifier(random_state=0)\n",
    "# print(X_train.values)\n",
    "tree.fit(X_train.values, y_train.values)\n",
    "# score is mean accuracy\n",
    "print('Train score:{:.3f}'.format(tree.score(X_train.values, y_train.values)))\n",
    "print('Test score:{:.3f}'.format(tree.score(X_test.values, y_test.values)))\n",
    "\n",
    "# cls_to_drop = ['session_id', 'skip_2', 'track_id_clean']\n",
    "# X_train,X_test,y_train,y_test = train_test_split(training_set.drop(columns = cls_to_drop, inplace = False), training_set['skip_2'], train_size = 0.8, shuffle = True)\n",
    "# # print(len(X_train), len(X_test))\n",
    "\n",
    "# tree = DecisionTreeClassifier(random_state=0)\n",
    "# tree.fit(X_train, y_train)\n",
    "# print('Train score:{:.3f}'.format(tree.score(X_train,y_train)))\n",
    "# print('Test score:{:.3f}'.format(tree.score(X_test,y_test)))"
   ]
  },
  {
   "cell_type": "code",
   "execution_count": null,
   "metadata": {},
   "outputs": [],
   "source": [
    "# X_train.feature_names"
   ]
  },
  {
   "cell_type": "code",
   "execution_count": null,
   "metadata": {},
   "outputs": [
    {
     "name": "stdout",
     "output_type": "stream",
     "text": [
      "[   4   20    0    1    0    0    0    0    0   15    0    1    1    1\n",
      "    6   15    7 2018]\n"
     ]
    }
   ],
   "source": [
    "print(X_test.values[0])"
   ]
  },
  {
   "cell_type": "code",
   "execution_count": null,
   "metadata": {},
   "outputs": [
    {
     "name": "stdout",
     "output_type": "stream",
     "text": [
      "[1 1 0 ... 1 0 1]\n",
      "[1 1 0 ... 1 0 1]\n",
      "TP = 14767\n",
      "TP = 2687\n",
      "TP = 13487\n",
      "TP = 2635\n",
      "Accuracy: 0.841493924231594\n",
      "Precision: 0.8485806229169061\n",
      "Recll:  0.8460524808066919\n"
     ]
    }
   ],
   "source": [
    "# 0 means not skipping and 1 means skipping\n",
    "test_length = len(X_test.values)\n",
    "pred = tree.predict(X_test.values)\n",
    "label = y_test.values\n",
    "print(pred)\n",
    "print(label)\n",
    "TP = 0\n",
    "FN = 0\n",
    "TN = 0\n",
    "FP = 0\n",
    "\n",
    "for i in range(test_length):\n",
    "    if pred[i] == 1 and label[i] == 1:\n",
    "        TP += 1\n",
    "    if pred[i] == 0 and label[i] == 1:\n",
    "        FN += 1\n",
    "    if pred[i] == 0 and label[i] == 0:\n",
    "        TN += 1\n",
    "    if pred[i] == 1 and label[i] == 0:\n",
    "        FP += 1\n",
    "\n",
    "print(\"TP = \" + str(TP))\n",
    "print(\"TP = \" + str(FN))\n",
    "print(\"TP = \" + str(TN))\n",
    "print(\"TP = \" + str(FP))\n",
    "print(\"Accuracy: \" + str((TP+TN)/(TP+FN+FP+TN)))\n",
    "print(\"Precision: \" + str(TP/(TP+FP)))\n",
    "print(\"Recll: \", str(TP/(TP+FN)))"
   ]
  }
 ],
 "metadata": {
  "interpreter": {
   "hash": "488910fc4cea01880ac54c33b5d831e5a10b38a70a5532f7b8bc7c6d7c7130fd"
  },
  "kernelspec": {
   "display_name": "Python 3.7.11 ('py37')",
   "language": "python",
   "name": "python3"
  },
  "language_info": {
   "codemirror_mode": {
    "name": "ipython",
    "version": 3
   },
   "file_extension": ".py",
   "mimetype": "text/x-python",
   "name": "python",
   "nbconvert_exporter": "python",
   "pygments_lexer": "ipython3",
   "version": "3.8.5"
  },
  "orig_nbformat": 4.0
 },
 "nbformat": 4,
 "nbformat_minor": 2
}
