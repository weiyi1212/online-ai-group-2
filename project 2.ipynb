{
 "cells": [
  {
   "cell_type": "code",
   "execution_count": null,
   "metadata": {
    "executionInfo": {
     "elapsed": 2344.0,
     "status": "ok",
     "timestamp": 1.645407868854E12,
     "user": {
      "displayName": "CH D",
      "photoUrl": "https://lh3.googleusercontent.com/a/default-user=s64",
      "userId": "08014395801573999343"
     },
     "user_tz": -480.0
    },
    "id": "iT3RE_gAzUIr"
   },
   "outputs": [
    {
     "ename": "NameError",
     "evalue": "name 'pd' is not defined",
     "traceback": [
      "\u001b[0;31m---------------------------------------------------------------------------\u001b[0m",
      "\u001b[0;31mNameError\u001b[0m                                 Traceback (most recent call last)",
      "\u001b[0;32m<ipython-input-1-7c3d717ae5ac>\u001b[0m in \u001b[0;36m<module>\u001b[0;34m()\u001b[0m\n\u001b[0;32m----> 1\u001b[0;31m \u001b[0mdf\u001b[0m \u001b[0;34m=\u001b[0m \u001b[0mpd\u001b[0m\u001b[0;34m.\u001b[0m\u001b[0mread_csv\u001b[0m\u001b[0;34m(\u001b[0m\u001b[0;34m'data/training_set/log_mini.csv'\u001b[0m\u001b[0;34m,\u001b[0m \u001b[0mdtype\u001b[0m\u001b[0;34m=\u001b[0m\u001b[0;34m{\u001b[0m\u001b[0;34m'skip_1'\u001b[0m\u001b[0;34m:\u001b[0m\u001b[0mint\u001b[0m\u001b[0;34m,\u001b[0m \u001b[0;34m'skip_2'\u001b[0m\u001b[0;34m:\u001b[0m\u001b[0mint\u001b[0m\u001b[0;34m,\u001b[0m \u001b[0;34m'skip_3'\u001b[0m\u001b[0;34m:\u001b[0m\u001b[0mint\u001b[0m\u001b[0;34m,\u001b[0m \u001b[0;34m'not_skipped'\u001b[0m\u001b[0;34m:\u001b[0m\u001b[0mint\u001b[0m\u001b[0;34m,\u001b[0m \u001b[0;34m'hist_user_behavior_is_shuffle'\u001b[0m\u001b[0;34m:\u001b[0m\u001b[0mint\u001b[0m\u001b[0;34m,\u001b[0m \u001b[0;34m'premium'\u001b[0m\u001b[0;34m:\u001b[0m\u001b[0mint\u001b[0m\u001b[0;34m}\u001b[0m\u001b[0;34m)\u001b[0m\u001b[0;34m\u001b[0m\u001b[0;34m\u001b[0m\u001b[0m\n\u001b[0m\u001b[1;32m      2\u001b[0m \u001b[0mtf\u001b[0m \u001b[0;34m=\u001b[0m \u001b[0mpd\u001b[0m\u001b[0;34m.\u001b[0m\u001b[0mread_csv\u001b[0m\u001b[0;34m(\u001b[0m\u001b[0;34m'data/track_features/tf_mini.csv'\u001b[0m\u001b[0;34m)\u001b[0m\u001b[0;34m\u001b[0m\u001b[0;34m\u001b[0m\u001b[0m\n",
      "\u001b[0;31mNameError\u001b[0m: name 'pd' is not defined"
     ],
     "output_type": "error"
    }
   ],
   "source": [
    "df = pd.read_csv('data/training_set/log_mini.csv', dtype={'skip_1':int, 'skip_2':int, 'skip_3':int, 'not_skipped':int, 'hist_user_behavior_is_shuffle':int, 'premium':int})\n",
    "tf = pd.read_csv('data/track_features/tf_mini.csv')"
   ]
  },
  {
   "cell_type": "code",
   "execution_count": 2,
   "metadata": {
    "executionInfo": {
     "elapsed": 4.0,
     "status": "ok",
     "timestamp": 1.645407866514E12,
     "user": {
      "displayName": "CH D",
      "photoUrl": "https://lh3.googleusercontent.com/a/default-user=s64",
      "userId": "08014395801573999343"
     },
     "user_tz": -480.0
    },
    "id": "QJQbSyhBzAQa"
   },
   "outputs": [
    {
     "ename": "ModuleNotFoundError",
     "evalue": "No module named 'pandas'",
     "traceback": [
      "\u001b[0;31m---------------------------------------------------------------------------\u001b[0m",
      "\u001b[0;31mModuleNotFoundError\u001b[0m                       Traceback (most recent call last)",
      "\u001b[0;32m<ipython-input-2-2d3ccc1ce3d5>\u001b[0m in \u001b[0;36m<module>\u001b[0;34m()\u001b[0m\n\u001b[0;32m----> 1\u001b[0;31m \u001b[0;32mimport\u001b[0m \u001b[0mpandas\u001b[0m \u001b[0;32mas\u001b[0m \u001b[0mpd\u001b[0m\u001b[0;34m\u001b[0m\u001b[0;34m\u001b[0m\u001b[0m\n\u001b[0m\u001b[1;32m      2\u001b[0m \u001b[0;32mimport\u001b[0m \u001b[0mrandom\u001b[0m\u001b[0;34m\u001b[0m\u001b[0;34m\u001b[0m\u001b[0m\n\u001b[1;32m      3\u001b[0m \u001b[0mrandom\u001b[0m\u001b[0;34m.\u001b[0m\u001b[0mseed\u001b[0m\u001b[0;34m(\u001b[0m\u001b[0;36m5483\u001b[0m\u001b[0;34m)\u001b[0m\u001b[0;34m\u001b[0m\u001b[0;34m\u001b[0m\u001b[0m\n\u001b[1;32m      4\u001b[0m \u001b[0;32mimport\u001b[0m \u001b[0mnumpy\u001b[0m \u001b[0;32mas\u001b[0m \u001b[0mnp\u001b[0m\u001b[0;34m\u001b[0m\u001b[0;34m\u001b[0m\u001b[0m\n\u001b[1;32m      5\u001b[0m \u001b[0mnp\u001b[0m\u001b[0;34m.\u001b[0m\u001b[0mrandom\u001b[0m\u001b[0;34m.\u001b[0m\u001b[0mseed\u001b[0m\u001b[0;34m(\u001b[0m\u001b[0;36m5483\u001b[0m\u001b[0;34m)\u001b[0m\u001b[0;34m\u001b[0m\u001b[0;34m\u001b[0m\u001b[0m\n",
      "\u001b[0;31mModuleNotFoundError\u001b[0m: No module named 'pandas'"
     ],
     "output_type": "error"
    }
   ],
   "source": [
    "import pandas as pd\n",
    "import random\n",
    "random.seed(5483)\n",
    "import numpy as np\n",
    "np.random.seed(5483)\n",
    "from sklearn.model_selection import train_test_split"
   ]
  },
  {
   "cell_type": "code",
   "execution_count": 3,
   "metadata": {
    "executionInfo": {
     "elapsed": 2454.0,
     "status": "ok",
     "timestamp": 1.645407871304E12,
     "user": {
      "displayName": "CH D",
      "photoUrl": "https://lh3.googleusercontent.com/a/default-user=s64",
      "userId": "08014395801573999343"
     },
     "user_tz": -480.0
    },
    "id": "oZyIRcFYKkCR"
   },
   "outputs": [
    {
     "ename": "NameError",
     "evalue": "name 'df' is not defined",
     "traceback": [
      "\u001b[0;31m---------------------------------------------------------------------------\u001b[0m",
      "\u001b[0;31mNameError\u001b[0m                                 Traceback (most recent call last)",
      "\u001b[0;32m<ipython-input-3-ec130af68645>\u001b[0m in \u001b[0;36m<module>\u001b[0;34m()\u001b[0m\n\u001b[1;32m     34\u001b[0m        \u001b[0;34m'hist_user_behavior_reason_start'\u001b[0m\u001b[0;34m,\u001b[0m \u001b[0;34m'hist_user_behavior_reason_end'\u001b[0m\u001b[0;34m,\u001b[0m\u001b[0;34m\u001b[0m\u001b[0;34m\u001b[0m\u001b[0m\n\u001b[1;32m     35\u001b[0m        'dayofweek']\n\u001b[0;32m---> 36\u001b[0;31m \u001b[0mdata_df\u001b[0m \u001b[0;34m=\u001b[0m \u001b[0mdf\u001b[0m\u001b[0;34m.\u001b[0m\u001b[0mloc\u001b[0m\u001b[0;34m[\u001b[0m\u001b[0;32mlambda\u001b[0m \u001b[0mx\u001b[0m\u001b[0;34m:\u001b[0m \u001b[0mx\u001b[0m\u001b[0;34m.\u001b[0m\u001b[0msession_length\u001b[0m\u001b[0;34m==\u001b[0m\u001b[0;36m20\u001b[0m\u001b[0;34m]\u001b[0m\u001b[0;34m\u001b[0m\u001b[0;34m\u001b[0m\u001b[0m\n\u001b[0m\u001b[1;32m     37\u001b[0m \u001b[0mlog_features\u001b[0m \u001b[0;34m=\u001b[0m \u001b[0mdata_df\u001b[0m\u001b[0;34m.\u001b[0m\u001b[0mloc\u001b[0m\u001b[0;34m[\u001b[0m\u001b[0;32mlambda\u001b[0m \u001b[0mx\u001b[0m\u001b[0;34m:\u001b[0m \u001b[0mx\u001b[0m\u001b[0;34m.\u001b[0m\u001b[0msession_position\u001b[0m \u001b[0;34m<=\u001b[0m \u001b[0;34m(\u001b[0m\u001b[0mx\u001b[0m\u001b[0;34m.\u001b[0m\u001b[0msession_length\u001b[0m\u001b[0;34m/\u001b[0m\u001b[0;36m2\u001b[0m\u001b[0;34m)\u001b[0m\u001b[0;34m]\u001b[0m\u001b[0;34m.\u001b[0m\u001b[0mcopy\u001b[0m\u001b[0;34m(\u001b[0m\u001b[0;34m)\u001b[0m\u001b[0;34m\u001b[0m\u001b[0;34m\u001b[0m\u001b[0m\n\u001b[1;32m     38\u001b[0m \u001b[0mlog_features\u001b[0m\u001b[0;34m.\u001b[0m\u001b[0mdate\u001b[0m \u001b[0;34m=\u001b[0m \u001b[0mpd\u001b[0m\u001b[0;34m.\u001b[0m\u001b[0mto_datetime\u001b[0m\u001b[0;34m(\u001b[0m\u001b[0mlog_features\u001b[0m\u001b[0;34m.\u001b[0m\u001b[0mdate\u001b[0m\u001b[0;34m)\u001b[0m\u001b[0;34m\u001b[0m\u001b[0;34m\u001b[0m\u001b[0m\n",
      "\u001b[0;31mNameError\u001b[0m: name 'df' is not defined"
     ],
     "output_type": "error"
    }
   ],
   "source": [
    "cols_to_select = [\n",
    "    'context_switch',\n",
    "    'context_type',\n",
    "    'hist_user_behavior_is_shuffle',\n",
    "    'hist_user_behavior_n_seekback',\n",
    "    'hist_user_behavior_n_seekfwd',\n",
    "    'hist_user_behavior_reason_end',\n",
    "    'hist_user_behavior_reason_start',\n",
    "    'hour_of_day',\n",
    "    'long_pause_before_play',\n",
    "    'no_pause_before_play',\n",
    "    'not_skipped',\n",
    "    'premium',\n",
    "    'session_position',\n",
    "    'short_pause_before_play',\n",
    "    'skip_1',\n",
    "    'skip_2',\n",
    "    'skip_3',\n",
    "    'dayofweek']\n",
    "cols_tf = ['duration', 'release_year', 'us_popularity_estimate',\n",
    "       'acousticness', 'beat_strength', 'bounciness', 'danceability',\n",
    "       'dyn_range_mean', 'energy', 'flatness', 'instrumentalness', 'key',\n",
    "       'liveness', 'loudness', 'mechanism', 'organism', 'speechiness',\n",
    "       'tempo', 'time_signature', 'valence', 'acoustic_vector_0',\n",
    "       'acoustic_vector_1', 'acoustic_vector_2', 'acoustic_vector_3',\n",
    "       'acoustic_vector_4', 'acoustic_vector_5', 'acoustic_vector_6',\n",
    "       'acoustic_vector_7']\n",
    "cols_log = ['session_id', 'session_position', 'session_length', 'track_id_clean',\n",
    "       'skip_1', 'skip_2', 'skip_3', 'not_skipped', 'context_switch',\n",
    "       'no_pause_before_play', 'short_pause_before_play',\n",
    "       'long_pause_before_play', 'hist_user_behavior_n_seekfwd',\n",
    "       'hist_user_behavior_n_seekback', 'hist_user_behavior_is_shuffle',\n",
    "       'hour_of_day', 'date', 'premium', 'context_type',\n",
    "       'hist_user_behavior_reason_start', 'hist_user_behavior_reason_end',\n",
    "       'dayofweek']\n",
    "data_df = df.loc[lambda x: x.session_length==20]\n",
    "log_features = data_df.loc[lambda x: x.session_position <= (x.session_length/2)].copy()\n",
    "log_features.date = pd.to_datetime(log_features.date)\n",
    "log_features['dayofweek'] = log_features.date.dt.dayofweek\n",
    "replace_idx = log_features.hist_user_behavior_reason_start.isin(['endplay', 'popup', 'uriopen', 'clickside']).copy()\n",
    "log_features.loc[replace_idx, 'hist_user_behavior_reason_start'] = 'replaced'\n",
    "replace_idx = log_features.hist_user_behavior_reason_end.isin(['clickrow', 'appload', 'popup', 'uriopen', 'clickside', 'logout']).copy()\n",
    "log_features.loc[replace_idx, 'hist_user_behavior_reason_end'] = 'replaced'\n",
    "tf.rename(columns={'track_id': 'track_id_clean'}, inplace=True)\n",
    "features = pd.merge(log_features, tf, on=['track_id_clean'], how='inner')\n",
    "features.sort_values(['session_id', 'session_position'], inplace=True)\n",
    "features.reset_index(drop=True, inplace=True)\n",
    "ground_truth = data_df.loc[lambda x: x.session_position > (x.session_length/2)].loc[:, ['session_id', 'session_position', 'session_length', 'track_id_clean', 'skip_2']].copy()\n",
    "ground_truth.sort_values(['session_id', 'session_position'], inplace=True)\n",
    "ground_truth.reset_index(drop=True, inplace=True)\n",
    "pred_y = np.array(ground_truth.groupby('session_id')['skip_2'].apply(lambda x: x.tolist()).tolist())\n",
    "\n",
    "feats_dummies = pd.get_dummies(features.loc[:, cols_to_select])\n",
    "feats_track = features.loc[:, cols_tf]\n",
    "all_seq = np.array(features.reset_index().groupby('session_id')['index'].apply(lambda x: x.tolist()).tolist())\n",
    "y_seq = np.array(features.reset_index().groupby('session_id')['skip_2'].apply(lambda x: x.tolist()).tolist())[:, -1:]\n",
    "all_seq = np.concatenate((all_seq, y_seq), axis=1)\n",
    "cols_order = sorted(feats_dummies.columns.values)\n",
    "log_mat = feats_dummies.loc[:, cols_order].values\n",
    "track_mat = feats_track.values\n",
    "X_train, X_test, y_train, y_test = train_test_split(all_seq, pred_y, test_size=0.2, random_state=5483)\n",
    "\n"
   ]
  },
  {
   "cell_type": "code",
   "execution_count": 4,
   "metadata": {
    "executionInfo": {
     "elapsed": 7389.0,
     "status": "ok",
     "timestamp": 1.645407878689E12,
     "user": {
      "displayName": "CH D",
      "photoUrl": "https://lh3.googleusercontent.com/a/default-user=s64",
      "userId": "08014395801573999343"
     },
     "user_tz": -480.0
    },
    "id": "x1tAw-yElx_q"
   },
   "outputs": [
    {
     "ename": "ModuleNotFoundError",
     "evalue": "No module named 'keras'",
     "traceback": [
      "\u001b[0;31m---------------------------------------------------------------------------\u001b[0m",
      "\u001b[0;31mModuleNotFoundError\u001b[0m                       Traceback (most recent call last)",
      "\u001b[0;32m<ipython-input-4-26345b2001be>\u001b[0m in \u001b[0;36m<module>\u001b[0;34m()\u001b[0m\n\u001b[0;32m----> 1\u001b[0;31m \u001b[0;32mfrom\u001b[0m \u001b[0mkeras\u001b[0m\u001b[0;34m.\u001b[0m\u001b[0mlayers\u001b[0m \u001b[0;32mimport\u001b[0m \u001b[0mEmbedding\u001b[0m\u001b[0;34m,\u001b[0m \u001b[0mBatchNormalization\u001b[0m\u001b[0;34m,\u001b[0m \u001b[0mInput\u001b[0m\u001b[0;34m,\u001b[0m \u001b[0mDense\u001b[0m\u001b[0;34m,\u001b[0m \u001b[0mLSTM\u001b[0m\u001b[0;34m,\u001b[0m \u001b[0mconcatenate\u001b[0m\u001b[0;34m,\u001b[0m \u001b[0mBidirectional\u001b[0m\u001b[0;34m,\u001b[0m \u001b[0mRepeatVector\u001b[0m\u001b[0;34m,\u001b[0m \u001b[0mDropout\u001b[0m\u001b[0;34m,\u001b[0m \u001b[0mLambda\u001b[0m\u001b[0;34m\u001b[0m\u001b[0;34m\u001b[0m\u001b[0m\n\u001b[0m\u001b[1;32m      2\u001b[0m \u001b[0;32mimport\u001b[0m \u001b[0mkeras\u001b[0m\u001b[0;34m.\u001b[0m\u001b[0mbackend\u001b[0m \u001b[0;32mas\u001b[0m \u001b[0mK\u001b[0m\u001b[0;34m\u001b[0m\u001b[0;34m\u001b[0m\u001b[0m\n\u001b[1;32m      3\u001b[0m \u001b[0;32mfrom\u001b[0m \u001b[0mkeras\u001b[0m\u001b[0;34m.\u001b[0m\u001b[0moptimizers\u001b[0m \u001b[0;32mimport\u001b[0m \u001b[0madam_v2\u001b[0m\u001b[0;34m\u001b[0m\u001b[0;34m\u001b[0m\u001b[0m\n\u001b[1;32m      4\u001b[0m \u001b[0;32mfrom\u001b[0m \u001b[0mkeras\u001b[0m\u001b[0;34m.\u001b[0m\u001b[0mmodels\u001b[0m \u001b[0;32mimport\u001b[0m \u001b[0mModel\u001b[0m\u001b[0;34m\u001b[0m\u001b[0;34m\u001b[0m\u001b[0m\n\u001b[1;32m      5\u001b[0m \u001b[0;32mfrom\u001b[0m \u001b[0mkeras\u001b[0m\u001b[0;34m.\u001b[0m\u001b[0mcallbacks\u001b[0m \u001b[0;32mimport\u001b[0m \u001b[0mEarlyStopping\u001b[0m\u001b[0;34m,\u001b[0m \u001b[0mReduceLROnPlateau\u001b[0m\u001b[0;34m,\u001b[0m \u001b[0mModelCheckpoint\u001b[0m\u001b[0;34m\u001b[0m\u001b[0;34m\u001b[0m\u001b[0m\n",
      "\u001b[0;31mModuleNotFoundError\u001b[0m: No module named 'keras'"
     ],
     "output_type": "error"
    }
   ],
   "source": [
    "from keras.layers import Embedding, BatchNormalization, Input, Dense, LSTM, concatenate, Bidirectional, RepeatVector, Dropout, Lambda\n",
    "import keras.backend as K\n",
    "from keras.optimizers import adam_v2\n",
    "from keras.models import Model\n",
    "from keras.callbacks import EarlyStopping, ReduceLROnPlateau, ModelCheckpoint"
   ]
  },
  {
   "cell_type": "code",
   "execution_count": 5,
   "metadata": {
    "executionInfo": {
     "elapsed": 15.0,
     "status": "ok",
     "timestamp": 1.64540787869E12,
     "user": {
      "displayName": "CH D",
      "photoUrl": "https://lh3.googleusercontent.com/a/default-user=s64",
      "userId": "08014395801573999343"
     },
     "user_tz": -480.0
    },
    "id": "ru9ytND4LJKt"
   },
   "outputs": [],
   "source": [
    "def model_net(log_mat, track_mat):\n",
    "  seq_input = Input(shape=(None,), name='log_input')\n",
    "  log_embed = Embedding(input_dim=log_mat.shape[0], output_dim=log_mat.shape[1], weights=[log_mat], trainable=False, mask_zero=False, name='session_embed')\n",
    "  track_embed = Embedding(input_dim=track_mat.shape[0], output_dim=track_mat.shape[1], weights=[track_mat],trainable=False,mask_zero=False,name='track_embed')\n",
    "  log_bn = BatchNormalization(name='bn1')\n",
    "  log_transformer = Dense(64, activation='relu', name='session_transformer')\n",
    "  x1 = log_embed(seq_input)\n",
    "  x1 = log_bn(x1)\n",
    "  x1 = log_transformer(x1)\n",
    "  track_bn = BatchNormalization(name='track_bn')\n",
    "  track_transformer = Dense(64, activation='relu', name='track_transformer')\n",
    "  x2 = track_embed(seq_input)\n",
    "  x2 = track_bn(x2)\n",
    "  x2 = track_transformer(x2)\n",
    "  x = concatenate([x1, x2], axis=-1)\n",
    "  x = Bidirectional(LSTM(64, return_sequences=False, return_state=False), name='lstm1')(x)\n",
    "  x = RepeatVector(1)(x)\n",
    "  x_en = Dense(256, activation='relu', name='base_transformer')(x)\n",
    "  _, fwd_sh, fwd_sc, bck_sh, bck_sc = Bidirectional(LSTM(256, return_sequences=False, return_state=True))(x_en)\n",
    "  fwd_sh = Dropout(0.2)(fwd_sh)\n",
    "  fwd_sc = Dropout(0.2)(fwd_sc)\n",
    "  bck_sh = Dropout(0.2)(bck_sh)\n",
    "  bck_sc = Dropout(0.2)(bck_sc)\n",
    "  y_p = Input(shape=(1, 1), name='y_seq')\n",
    "  all_ouputs = []\n",
    "  decoder_2 = Bidirectional(LSTM(256, return_sequences=True, return_state=True, name='decoder_2'))\n",
    "  decoder_3 = LSTM(64, return_sequences=True, return_state=True, name='decoder_3')\n",
    "  decoder_4 = Dropout(0.3)\n",
    "  decoder_5 = Dense(1, activation='sigmoid', name='decoder_5')\n",
    "  x = concatenate([x_en, y_p])\n",
    "  x, fwd_sh, fwd_sc, bck_sh, bck_sc = decoder_2(x, initial_state=[fwd_sh, fwd_sc, bck_sh, bck_sc])\n",
    "  x, sh, sc = decoder_3(x)\n",
    "  x = decoder_4(x)\n",
    "  out = decoder_5(x)\n",
    "  all_ouputs.append(out)\n",
    "\n",
    "  for i in range(1, 10):\n",
    "    x = concatenate([x_en, out])\n",
    "    x, fwd_sh, fwd_sc, bck_sh, bck_sc = decoder_2(x, initial_state=[fwd_sh, fwd_sc, bck_sh, bck_sc])\n",
    "    x, sh, sc = decoder_3(x)\n",
    "    x = decoder_4(x)\n",
    "    out = decoder_5(x)\n",
    "    all_ouputs.append(out)\n",
    "  out_combined = Lambda(lambda x: K.concatenate(x, axis=1))(all_ouputs)\n",
    "  model = Model(inputs=[seq_input, y_p], outputs=[out_combined])\n",
    "  model.compile(optimizer=adam_v2.Adam(lr=0.01), loss='binary_crossentropy', metrics=['accuracy'])\n",
    "  return model"
   ]
  },
  {
   "cell_type": "code",
   "execution_count": null,
   "metadata": {
    "colab": {
     "base_uri": "https://localhost:8080/"
    },
    "executionInfo": {
     "elapsed": 22825.0,
     "status": "ok",
     "timestamp": 1.645407901501E12,
     "user": {
      "displayName": "CH D",
      "photoUrl": "https://lh3.googleusercontent.com/a/default-user=s64",
      "userId": "08014395801573999343"
     },
     "user_tz": -480.0
    },
    "id": "r5vTeTJFY5F_",
    "outputId": "21bc6164-d729-4396-c8b0-b03d458f3d15"
   },
   "outputs": [
    {
     "ename": "NameError",
     "evalue": "name 'log_mat' is not defined",
     "traceback": [
      "\u001b[0;31m---------------------------------------------------------------------------\u001b[0m",
      "\u001b[0;31mNameError\u001b[0m                                 Traceback (most recent call last)",
      "\u001b[0;32m<ipython-input-6-a866a27c63fc>\u001b[0m in \u001b[0;36m<module>\u001b[0;34m()\u001b[0m\n\u001b[0;32m----> 1\u001b[0;31m \u001b[0mmodel\u001b[0m \u001b[0;34m=\u001b[0m \u001b[0mmodel_net\u001b[0m\u001b[0;34m(\u001b[0m\u001b[0mlog_mat\u001b[0m\u001b[0;34m,\u001b[0m \u001b[0mtrack_mat\u001b[0m\u001b[0;34m)\u001b[0m\u001b[0;34m\u001b[0m\u001b[0;34m\u001b[0m\u001b[0m\n\u001b[0m\u001b[1;32m      2\u001b[0m \u001b[0mmodel\u001b[0m\u001b[0;34m.\u001b[0m\u001b[0msummary\u001b[0m\u001b[0;34m(\u001b[0m\u001b[0;34m)\u001b[0m\u001b[0;34m\u001b[0m\u001b[0;34m\u001b[0m\u001b[0m\n",
      "\u001b[0;31mNameError\u001b[0m: name 'log_mat' is not defined"
     ],
     "output_type": "error"
    }
   ],
   "source": [
    "model = model_net(log_mat, track_mat)\n",
    "model.summary()"
   ]
  },
  {
   "cell_type": "code",
   "execution_count": 7,
   "metadata": {
    "colab": {
     "base_uri": "https://localhost:8080/"
    },
    "executionInfo": {
     "elapsed": 19.0,
     "status": "ok",
     "timestamp": 1.645407901502E12,
     "user": {
      "displayName": "CH D",
      "photoUrl": "https://lh3.googleusercontent.com/a/default-user=s64",
      "userId": "08014395801573999343"
     },
     "user_tz": -480.0
    },
    "id": "vqPYCNI84wrV",
    "outputId": "e3e9fe49-5194-45b3-c2ab-7eaed523f2de"
   },
   "outputs": [
    {
     "ename": "NameError",
     "evalue": "name 'EarlyStopping' is not defined",
     "traceback": [
      "\u001b[0;31m---------------------------------------------------------------------------\u001b[0m",
      "\u001b[0;31mNameError\u001b[0m                                 Traceback (most recent call last)",
      "\u001b[0;32m<ipython-input-7-2c82fe0196e9>\u001b[0m in \u001b[0;36m<module>\u001b[0;34m()\u001b[0m\n\u001b[1;32m      1\u001b[0m callbacks = [\n\u001b[0;32m----> 2\u001b[0;31m     EarlyStopping(monitor='val_loss',\n\u001b[0m\u001b[1;32m      3\u001b[0m                      \u001b[0mpatience\u001b[0m\u001b[0;34m=\u001b[0m\u001b[0;36m15\u001b[0m\u001b[0;34m,\u001b[0m\u001b[0;34m\u001b[0m\u001b[0;34m\u001b[0m\u001b[0m\n\u001b[1;32m      4\u001b[0m                      \u001b[0mverbose\u001b[0m\u001b[0;34m=\u001b[0m\u001b[0;36m1\u001b[0m\u001b[0;34m,\u001b[0m\u001b[0;34m\u001b[0m\u001b[0;34m\u001b[0m\u001b[0m\n\u001b[1;32m      5\u001b[0m                      \u001b[0mmin_delta\u001b[0m\u001b[0;34m=\u001b[0m\u001b[0;36m1e-4\u001b[0m\u001b[0;34m,\u001b[0m\u001b[0;34m\u001b[0m\u001b[0;34m\u001b[0m\u001b[0m\n",
      "\u001b[0;31mNameError\u001b[0m: name 'EarlyStopping' is not defined"
     ],
     "output_type": "error"
    }
   ],
   "source": [
    "callbacks = [\n",
    "    EarlyStopping(monitor='val_loss',\n",
    "                     patience=15,\n",
    "                     verbose=1,\n",
    "                     min_delta=1e-4,\n",
    "                     mode='min'),\n",
    "    ReduceLROnPlateau(monitor='val_loss',\n",
    "                         factor=0.1,\n",
    "                         patience=4,\n",
    "                         verbose=1,\n",
    "                         epsilon=1e-4,\n",
    "                         mode='min'),\n",
    "    ModelCheckpoint(monitor='val_loss',\n",
    "                       filepath='model_weights_best.h5',\n",
    "                       save_best_only=True,\n",
    "                       save_weights_only=True)\n",
    "]"
   ]
  },
  {
   "cell_type": "code",
   "execution_count": 8,
   "metadata": {
    "colab": {
     "base_uri": "https://localhost:8080/"
    },
    "executionInfo": {
     "elapsed": 177879.0,
     "status": "ok",
     "timestamp": 1.645408079366E12,
     "user": {
      "displayName": "CH D",
      "photoUrl": "https://lh3.googleusercontent.com/a/default-user=s64",
      "userId": "08014395801573999343"
     },
     "user_tz": -480.0
    },
    "id": "h13fyyvV4m43",
    "outputId": "439bb123-9a35-40fc-f95b-17713db0abf0"
   },
   "outputs": [
    {
     "ename": "NameError",
     "evalue": "name 'model' is not defined",
     "traceback": [
      "\u001b[0;31m---------------------------------------------------------------------------\u001b[0m",
      "\u001b[0;31mNameError\u001b[0m                                 Traceback (most recent call last)",
      "\u001b[0;32m<ipython-input-8-eab1f2ccdf78>\u001b[0m in \u001b[0;36m<module>\u001b[0;34m()\u001b[0m\n\u001b[0;32m----> 1\u001b[0;31m model.fit(\n\u001b[0m\u001b[1;32m      2\u001b[0m     \u001b[0mx\u001b[0m\u001b[0;34m=\u001b[0m\u001b[0;34m[\u001b[0m\u001b[0mX_train\u001b[0m\u001b[0;34m[\u001b[0m\u001b[0;34m:\u001b[0m\u001b[0;34m,\u001b[0m \u001b[0;34m:\u001b[0m\u001b[0;34m-\u001b[0m\u001b[0;36m1\u001b[0m\u001b[0;34m]\u001b[0m\u001b[0;34m,\u001b[0m \u001b[0mX_train\u001b[0m\u001b[0;34m[\u001b[0m\u001b[0;34m:\u001b[0m\u001b[0;34m,\u001b[0m \u001b[0;34m-\u001b[0m\u001b[0;36m1\u001b[0m\u001b[0;34m:\u001b[0m\u001b[0;34m]\u001b[0m\u001b[0;34m]\u001b[0m\u001b[0;34m,\u001b[0m\u001b[0;34m\u001b[0m\u001b[0;34m\u001b[0m\u001b[0m\n\u001b[1;32m      3\u001b[0m     \u001b[0my\u001b[0m\u001b[0;34m=\u001b[0m\u001b[0my_train\u001b[0m\u001b[0;34m,\u001b[0m\u001b[0;34m\u001b[0m\u001b[0;34m\u001b[0m\u001b[0m\n\u001b[1;32m      4\u001b[0m     \u001b[0mbatch_size\u001b[0m\u001b[0;34m=\u001b[0m\u001b[0;36m128\u001b[0m\u001b[0;34m,\u001b[0m\u001b[0;34m\u001b[0m\u001b[0;34m\u001b[0m\u001b[0m\n\u001b[1;32m      5\u001b[0m     \u001b[0mepochs\u001b[0m\u001b[0;34m=\u001b[0m\u001b[0;36m100\u001b[0m\u001b[0;34m,\u001b[0m\u001b[0;34m\u001b[0m\u001b[0;34m\u001b[0m\u001b[0m\n",
      "\u001b[0;31mNameError\u001b[0m: name 'model' is not defined"
     ],
     "output_type": "error"
    }
   ],
   "source": [
    "history=model.fit(\n",
    "    x=[X_train[:, :-1], X_train[:, -1:]], \n",
    "    y=y_train, \n",
    "    batch_size=128, \n",
    "    epochs=100, \n",
    "    verbose=1, \n",
    "    callbacks=callbacks, \n",
    "    validation_split=0.1, \n",
    "    shuffle=True)\n"
   ]
  },
  {
   "cell_type": "code",
   "execution_count": null,
   "metadata": {},
   "outputs": [],
   "source": [
    "print(history.history['acc'])\n",
    "print(history.history['loss'])\n",
    "print(history.history)\n",
    "epochs = range(1, len(acc) + 1)\n"
   ]
  },
  {
   "cell_type": "code",
   "execution_count": 9,
   "metadata": {
    "colab": {
     "base_uri": "https://localhost:8080/"
    },
    "executionInfo": {
     "elapsed": 2665.0,
     "status": "ok",
     "timestamp": 1.645408082362E12,
     "user": {
      "displayName": "CH D",
      "photoUrl": "https://lh3.googleusercontent.com/a/default-user=s64",
      "userId": "08014395801573999343"
     },
     "user_tz": -480.0
    },
    "id": "Aldwimr1NdFR",
    "outputId": "3eee821d-4729-4233-cf93-62ed5cdcf015"
   },
   "outputs": [
    {
     "ename": "NameError",
     "evalue": "name 'model' is not defined",
     "traceback": [
      "\u001b[0;31m---------------------------------------------------------------------------\u001b[0m",
      "\u001b[0;31mNameError\u001b[0m                                 Traceback (most recent call last)",
      "\u001b[0;32m<ipython-input-9-24bfea2c500a>\u001b[0m in \u001b[0;36m<module>\u001b[0;34m()\u001b[0m\n\u001b[0;32m----> 1\u001b[0;31m \u001b[0mmodel\u001b[0m\u001b[0;34m.\u001b[0m\u001b[0mload_weights\u001b[0m\u001b[0;34m(\u001b[0m\u001b[0;34m'model_weights_best.h5'\u001b[0m\u001b[0;34m)\u001b[0m\u001b[0;34m\u001b[0m\u001b[0;34m\u001b[0m\u001b[0m\n\u001b[0m\u001b[1;32m      2\u001b[0m loss, acc = model.evaluate(\n\u001b[1;32m      3\u001b[0m     \u001b[0mx\u001b[0m\u001b[0;34m=\u001b[0m\u001b[0;34m[\u001b[0m\u001b[0mX_test\u001b[0m\u001b[0;34m[\u001b[0m\u001b[0;34m:\u001b[0m\u001b[0;34m,\u001b[0m \u001b[0;34m:\u001b[0m\u001b[0;34m-\u001b[0m\u001b[0;36m1\u001b[0m\u001b[0;34m]\u001b[0m\u001b[0;34m,\u001b[0m \u001b[0mX_test\u001b[0m\u001b[0;34m[\u001b[0m\u001b[0;34m:\u001b[0m\u001b[0;34m,\u001b[0m \u001b[0;34m-\u001b[0m\u001b[0;36m1\u001b[0m\u001b[0;34m:\u001b[0m\u001b[0;34m]\u001b[0m\u001b[0;34m]\u001b[0m\u001b[0;34m,\u001b[0m\u001b[0;34m\u001b[0m\u001b[0;34m\u001b[0m\u001b[0m\n\u001b[1;32m      4\u001b[0m     \u001b[0my\u001b[0m\u001b[0;34m=\u001b[0m\u001b[0my_test\u001b[0m\u001b[0;34m\u001b[0m\u001b[0;34m\u001b[0m\u001b[0m\n\u001b[1;32m      5\u001b[0m )\n",
      "\u001b[0;31mNameError\u001b[0m: name 'model' is not defined"
     ],
     "output_type": "error"
    }
   ],
   "source": [
    "model.load_weights('model_weights_best.h5')\n",
    "loss, acc = model.evaluate(\n",
    "    x=[X_test[:, :-1], X_test[:, -1:]], \n",
    "    y=y_test\n",
    ")\n",
    "print('Test Loss:{}.\\nTest Accuracy:{}.'.format(loss, acc))"
   ]
  },
  {
   "cell_type": "code",
   "execution_count": null,
   "metadata": {},
   "outputs": [],
   "source": []
  }
 ],
 "metadata": {
  "accelerator": "GPU",
  "colab": {
   "authorship_tag": "ABX9TyO0m1v/LA+R1RglugMa6+RT",
   "collapsed_sections": [],
   "name": "project.ipynb",
   "provenance": []
  },
  "kernelspec": {
   "display_name": "Python 3",
   "language": "python",
   "name": "python3"
  },
  "language_info": {
   "codemirror_mode": {
    "name": "ipython",
    "version": 3
   },
   "file_extension": ".py",
   "mimetype": "text/x-python",
   "name": "python",
   "nbconvert_exporter": "python",
   "pygments_lexer": "ipython3",
   "version": "3.6.5"
  }
 },
 "nbformat": 4,
 "nbformat_minor": 1
}
